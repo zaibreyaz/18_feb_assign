{
 "cells": [
  {
   "cell_type": "code",
   "execution_count": null,
   "id": "64c5f6b9-29da-48ea-b542-15622eea549d",
   "metadata": {},
   "outputs": [],
   "source": [
    "\"\"\"Q1. What is an API? Give an example, where an API is used in real life.\n",
    "\n",
    "    Ans: API stands for Application Programming Interface. It's a set of protocols and tools that allow different software applications \n",
    "         to communicate and share data with each other. An example of an API is the Google Maps API, which enables developers to integrate \n",
    "         maps and location data into their own apps. This allows users to see maps and directions without leaving the app they're using.\n",
    "\"\"\""
   ]
  },
  {
   "cell_type": "code",
   "execution_count": null,
   "id": "fc239698-388e-484a-9ee1-239177822592",
   "metadata": {},
   "outputs": [],
   "source": [
    "\"\"\"Q2. Give advantages and disadvantages of using API.\n",
    "\n",
    "    Ans: Advantages of using APIs include faster development, reduced costs, and increased flexibility, \n",
    "         as they allow developers to access pre-built functionality without having to create everything from scratch. \n",
    "         APIs also enable integration with other systems, making it easier to share data and functionality.\n",
    "\n",
    "         Disadvantages include potential security vulnerabilities, as APIs can provide an entry point for hackers, \n",
    "         and reliance on third-party services, which can cause issues if the API provider makes changes or goes out of business. \n",
    "         Additionally, some APIs may be complex or poorly documented, making them difficult to use.\n",
    "\"\"\""
   ]
  },
  {
   "cell_type": "code",
   "execution_count": null,
   "id": "237b5406-3e8c-40ae-9aaf-2fa1d96be9b8",
   "metadata": {},
   "outputs": [],
   "source": [
    "\"\"\"Q3. What is a Web API? Differentiate between API and Web API.\n",
    "\n",
    "    Ans: A Web API, or Web Application Programming Interface, is a type of API that is specifically designed for use over the internet. \n",
    "         It enables different web-based systems and services to communicate and share data with each other in a standardized way.\n",
    "\n",
    "         While all APIs allow software applications to communicate with each other, Web APIs are specifically designed for use over \n",
    "         the internet and rely on web-based protocols like HTTP and HTTPS.\n",
    "\n",
    "         So while all Web APIs are APIs, not all APIs are Web APIs. Other types of APIs can include local or internal \n",
    "         APIs that are used within a single organization or system.\n",
    "\"\"\""
   ]
  },
  {
   "cell_type": "code",
   "execution_count": null,
   "id": "f0d3d2cd-8f61-495a-bff4-c382608d33dc",
   "metadata": {},
   "outputs": [],
   "source": [
    "\"\"\"Q4. Explain REST and SOAP Architecture. Mention shortcomings of SOAP.\n",
    "\n",
    "    Ans: REST, or Representational State Transfer, is a type of web architecture that is based on a set of principles for designing \n",
    "         scalable and flexible web services. It uses standard HTTP methods like GET, POST, PUT, and DELETE to allow clients to \n",
    "         interact with resources on a server.\n",
    "\n",
    "         SOAP, or Simple Object Access Protocol, is a protocol for exchanging structured data between different software applications. \n",
    "         It uses XML as its message format and requires a dedicated communication protocol, usually HTTP or SMTP.\n",
    "\n",
    "         The main disadvantage of SOAP is that it can be quite complex and heavy, requiring a lot of overhead for even simple requests. \n",
    "         This can slow down the performance of web services and make it harder to scale them up as needed. In contrast, \n",
    "         REST is simpler and more lightweight, making it a more popular choice for many web developers.\n",
    "\n",
    "\"\"\""
   ]
  },
  {
   "cell_type": "code",
   "execution_count": null,
   "id": "275cff89-37b1-4b68-9b7f-c157f224f35b",
   "metadata": {},
   "outputs": [],
   "source": [
    "\"\"\"Q5. Differentiate between REST and SOAP.\n",
    "\n",
    "    Ans: REST and SOAP are two different approaches to building web services. REST, or Representational State Transfer, is a simpler and \n",
    "         more lightweight architecture that uses standard HTTP methods to allow clients to interact with resources on a server. \n",
    "         It emphasizes scalability, flexibility, and ease of use.\n",
    "\n",
    "         SOAP, or Simple Object Access Protocol, is a more complex and heavy protocol that uses XML messages to exchange structured \n",
    "         data between different applications. It relies on a dedicated communication protocol, usually HTTP or SMTP, \n",
    "         and can be more difficult to work with than REST.\n",
    "\n",
    "         Overall, REST is often seen as a more modern and flexible approach, while SOAP may be better suited for more complex \n",
    "         enterprise applications.\n",
    "         \n",
    "\"\"\""
   ]
  }
 ],
 "metadata": {
  "kernelspec": {
   "display_name": "Python 3 (ipykernel)",
   "language": "python",
   "name": "python3"
  },
  "language_info": {
   "codemirror_mode": {
    "name": "ipython",
    "version": 3
   },
   "file_extension": ".py",
   "mimetype": "text/x-python",
   "name": "python",
   "nbconvert_exporter": "python",
   "pygments_lexer": "ipython3",
   "version": "3.10.8"
  }
 },
 "nbformat": 4,
 "nbformat_minor": 5
}
